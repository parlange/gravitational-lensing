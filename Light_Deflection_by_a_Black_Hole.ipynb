{
  "nbformat": 4,
  "nbformat_minor": 0,
  "metadata": {
    "colab": {
      "provenance": []
    },
    "kernelspec": {
      "name": "python3",
      "display_name": "Python 3"
    },
    "language_info": {
      "name": "python"
    }
  },
  "cells": [
    {
      "cell_type": "markdown",
      "source": [
        "## René Parlange, MSc\n",
        "### 📚 Gravitational Lensing Course, PhD in Computer Science\n",
        "#### 🎓 Instructors: *Dr*. Octavio Valenzuela (IA-UNAM), Dr. Juan Carlos Cuevas (UASLP) and Dr. Omar Cabrera (IA-UNAM)\n",
        "#### 🏛 Universidad Autónoma de San Luis Potosí (UASLP)\n",
        "\n",
        "🔗 [GitHub Repository](https://github.com/parlange/gravitational-lensing)\n",
        "\n"
      ],
      "metadata": {
        "id": "goE4FA-Xknxb"
      }
    },
    {
      "cell_type": "markdown",
      "source": [
        "In our first python application, we write a script to produce Fig. 2.3. A brief python\n",
        "tutorial can be found in Appendix 8.\n",
        "We need to implement Eqs. 2.40 and 2.42. Then, we **compare the resulting\n",
        "deflection angle to that in the weak field limit** described by Eq. 2.37.\n",
        "We start by importing some useful packages:"
      ],
      "metadata": {
        "id": "jx8LuU9op1lP"
      }
    },
    {
      "cell_type": "code",
      "execution_count": null,
      "metadata": {
        "id": "aeIemFW_hOk-"
      },
      "outputs": [],
      "source": [
        "from scipy import special as sy # need special functions for incomplete \\\\\n",
        "# elliptic integrals of the first kind\n",
        "import numpy as np # efficient vector and matrix operations\n",
        "import matplotlib.pyplot as plt # a MATLAB-like plotting framework"
      ]
    },
    {
      "cell_type": "markdown",
      "source": [
        "We import the module special from the package scipy in order to compute\n",
        "the elliptic integral of the first kind in Eq. 2.42. See https://docs.scipy.org/doc/scipy/\n",
        "reference/special.html"
      ],
      "metadata": {
        "id": "t8GQUjDPqAqR"
      }
    },
    {
      "cell_type": "markdown",
      "source": [
        "Our goal is to produce a graph. We setup the fonts and the character size, and\n",
        "then we import the **matplotlib** library. We will use this library extensively for\n",
        "visualization purposes in this book. In particular, we will often use the MATLABlike plotting framework provided by matplotlib.pyplot:"
      ],
      "metadata": {
        "id": "gAjiY7KiqHTI"
      }
    },
    {
      "cell_type": "code",
      "source": [
        "font = {'family' : 'normal',\n",
        "'weight' : 'normal',\n",
        "'size' : 20}\n",
        "import matplotlib\n",
        "matplotlib.rc('font', **font)\n",
        "import matplotlib.pyplot as plt"
      ],
      "metadata": {
        "id": "VsWumBxuhQF4"
      },
      "execution_count": null,
      "outputs": []
    },
    {
      "cell_type": "markdown",
      "source": [
        "When it is convenient, we will also adopt an **object-oriented programming** style,\n",
        "using classes to define objects. For example, we can create a class for black hole\n",
        "objects as follows:"
      ],
      "metadata": {
        "id": "rsJqOkvCqOOZ"
      }
    },
    {
      "cell_type": "code",
      "source": [
        "class point_bh:\n",
        "    def __init__(self,M):\n",
        "        self.M=M\n",
        "\n",
        "    # functions defining the metric.\n",
        "    def A(self,r):\n",
        "        return(1.0-2.0*self.M/r)\n",
        "\n",
        "    def B(self,r):\n",
        "        return (self.A(r)**(-1))\n",
        "\n",
        "    def C(self,r):\n",
        "        return(r**2)\n",
        "\n",
        "    # compute u from rm\n",
        "    def u(self,r):\n",
        "        u=np.sqrt(self.C(r)/self.A(r))\n",
        "        return(u)\n",
        "\n",
        "    # functions concurring to the deflection angle calculation\n",
        "    def ss(self,r):\n",
        "        return(np.sqrt((r-2.0*self.M)*(r+6.0*self.M)))\n",
        "\n",
        "    def mm(self,r,s):\n",
        "        return((s-r+6.0*self.M)/2/s)\n",
        "\n",
        "    def phif(self,r,s):\n",
        "        return(np.arcsin(np.sqrt(2.0*s/(3.0*r-6.0*self.M+s))))\n",
        "\n",
        "    # the deflection angle\n",
        "    def defAngle(self,r):\n",
        "        s=self.ss(r)\n",
        "        m=self.mm(r,s)\n",
        "        phi=self.phif(r,s)\n",
        "        F=sy.ellipkinc(phi, m) # using the ellipkinc function\n",
        "                              # from scipy.special\n",
        "        return(-np.pi+4.0*np.sqrt(r/s)*F)"
      ],
      "metadata": {
        "id": "gcPN0qqXhUlr"
      },
      "execution_count": null,
      "outputs": []
    },
    {
      "cell_type": "markdown",
      "source": [
        "A black-hole object is an instance of the **class point_bh**. The only input\n",
        "parameter required to initialize the object (see the _ _init_ _) is the black-hole\n",
        "mass. The class contains several methods (or functions), which will be used to\n",
        "compute the black-hole deflection angle.\n",
        "\n",
        "For example, it contains the functions\n",
        "$A(R)$, $B(R)$, and $C(R)$. We use them to convert the minimal distance **$R_m$** to **$u$**. It also\n",
        "contains the functions for computing **s** , **m** , **ϕ**, which depend on the black-hole mass\n",
        "and the minimal distance **$R_m$**.\n",
        "\n",
        "Finally, the function **defAngle** enables to compute the deflection angle using Eq. 2.42. This function uses the method elipkinc from\n",
        "scipy.special to compute the incomplete elliptic integral of the first kind,\n",
        "**F (ϕ, m)**.\n",
        "\n",
        "Note that ϕ and m are numpy arrays not scalars, i.e. elipkinc returns\n",
        "the integral for several values of (ϕ, m) with a single call."
      ],
      "metadata": {
        "id": "2iEIAos5qQEH"
      }
    },
    {
      "cell_type": "markdown",
      "source": [
        "Following the same approach, we build another class which deals with point\n",
        "lenses in the weak field limit, i.e. it implements Eq. 2.37:"
      ],
      "metadata": {
        "id": "k6Sza6QRqYU_"
      }
    },
    {
      "cell_type": "code",
      "source": [
        "class point_mass:\n",
        "    def __init__(self,M):\n",
        "        self.M=M\n",
        "\n",
        "    # the classical formula\n",
        "    def defAngle(self,u):\n",
        "        return(4.0*self.M/u)"
      ],
      "metadata": {
        "id": "oqu_Flzaht7L"
      },
      "execution_count": null,
      "outputs": []
    },
    {
      "cell_type": "markdown",
      "source": [
        "We can now use the two classes above to build two objects, namely a **black-hole\n",
        "lens** and a **point-mass lens**. In both cases, the mass of the lens is fixed to 3$M_{\\odot}$. For\n",
        "a mass of this size, the Schwarzschild radius is $R_s$ ∼ 9km:\n",
        "\n",
        "\n"
      ],
      "metadata": {
        "id": "X0CJVDTIqcKt"
      }
    },
    {
      "cell_type": "code",
      "source": [
        "bh=point_bh(3.0)\n",
        "pm=point_mass(3.0)"
      ],
      "metadata": {
        "id": "SxorTLitisZ9"
      },
      "execution_count": null,
      "outputs": []
    },
    {
      "cell_type": "markdown",
      "source": [
        "We use the **linspace** method from the package numpy to initialize an array\n",
        "of minimal distances $R_m$, which we use to compute alpha hat. We use the function $u(r)$\n",
        "of **point_bh** to convert $R_m$ into an array of impact parameters $u$:\n"
      ],
      "metadata": {
        "id": "vsq7BeD9rJ-3"
      }
    },
    {
      "cell_type": "code",
      "source": [
        "r=np.linspace(3.0/2.0,10,1000)*2.0*bh.M\n",
        "u=bh.u(r)/2.0/bh.M"
      ],
      "metadata": {
        "id": "lU4MCjYYjDJz"
      },
      "execution_count": null,
      "outputs": []
    },
    {
      "cell_type": "markdown",
      "source": [
        "The deflection angle as a function of **u** or **$R_m:$** can be computed in the cases of\n",
        "the exact solution and in the weak field limit using the method **defAngle** applied\n",
        "to **bh** and **pm**:"
      ],
      "metadata": {
        "id": "5eo36zZ9raoK"
      }
    },
    {
      "cell_type": "code",
      "source": [
        "a=bh.defAngle(r)\n",
        "b=pm.defAngle(u*2.0*bh.M)"
      ],
      "metadata": {
        "id": "7M9Ips9LjFnv"
      },
      "execution_count": null,
      "outputs": []
    },
    {
      "cell_type": "markdown",
      "source": [
        "Note that $u$ is in units of the Schwarzschild radius and we assume **G/c2 = 1**.\n",
        "For displaying the results, we use the following code:\n"
      ],
      "metadata": {
        "id": "PW4K73y1rpgQ"
      }
    },
    {
      "cell_type": "code",
      "source": [
        "# initialize figure and axes\n",
        "# (single plot, 15\" by 8\" in size)\n",
        "fig,ax=plt.subplots(1,1,figsize=(15,8))\n",
        "# plot the exact solution in ax\n",
        "ax.plot(u,a,'-',label='exact solution')\n",
        "# plot the solution in the weak field limit\n",
        "ax.plot(u,b,'--',label='weak field limit',color='red')\n",
        "# set the labels for the x and the y axes\n",
        "ax.set_xlabel(r'$u$ $[2GM/c^2]$')\n",
        "ax.set_ylabel(r'$\\hat\\alpha(u)$ [radians]')\n",
        "# add the legend\n",
        "ax.legend()"
      ],
      "metadata": {
        "colab": {
          "base_uri": "https://localhost:8080/",
          "height": 1000
        },
        "id": "jbei5ZZ6jHKu",
        "outputId": "68a21aa4-26d6-48d1-bdb7-04998fe19b23"
      },
      "execution_count": null,
      "outputs": [
        {
          "output_type": "execute_result",
          "data": {
            "text/plain": [
              "<matplotlib.legend.Legend at 0x7b052379a6b0>"
            ]
          },
          "metadata": {},
          "execution_count": 18
        },
        {
          "output_type": "stream",
          "name": "stderr",
          "text": [
            "WARNING:matplotlib.font_manager:findfont: Font family 'normal' not found.\n",
            "WARNING:matplotlib.font_manager:findfont: Font family 'normal' not found.\n",
            "WARNING:matplotlib.font_manager:findfont: Font family 'normal' not found.\n",
            "WARNING:matplotlib.font_manager:findfont: Font family 'normal' not found.\n",
            "WARNING:matplotlib.font_manager:findfont: Font family 'normal' not found.\n",
            "WARNING:matplotlib.font_manager:findfont: Font family 'normal' not found.\n",
            "WARNING:matplotlib.font_manager:findfont: Font family 'normal' not found.\n",
            "WARNING:matplotlib.font_manager:findfont: Font family 'normal' not found.\n",
            "WARNING:matplotlib.font_manager:findfont: Font family 'normal' not found.\n",
            "WARNING:matplotlib.font_manager:findfont: Font family 'normal' not found.\n",
            "WARNING:matplotlib.font_manager:findfont: Font family 'normal' not found.\n",
            "WARNING:matplotlib.font_manager:findfont: Font family 'normal' not found.\n",
            "WARNING:matplotlib.font_manager:findfont: Font family 'normal' not found.\n",
            "WARNING:matplotlib.font_manager:findfont: Font family 'normal' not found.\n",
            "WARNING:matplotlib.font_manager:findfont: Font family 'normal' not found.\n",
            "WARNING:matplotlib.font_manager:findfont: Font family 'normal' not found.\n",
            "WARNING:matplotlib.font_manager:findfont: Font family 'normal' not found.\n",
            "WARNING:matplotlib.font_manager:findfont: Font family ['normal'] not found. Falling back to DejaVu Sans.\n",
            "WARNING:matplotlib.font_manager:findfont: Font family 'normal' not found.\n",
            "WARNING:matplotlib.font_manager:findfont: Font family 'normal' not found.\n",
            "WARNING:matplotlib.font_manager:findfont: Font family 'normal' not found.\n",
            "WARNING:matplotlib.font_manager:findfont: Font family 'normal' not found.\n",
            "WARNING:matplotlib.font_manager:findfont: Font family 'normal' not found.\n",
            "WARNING:matplotlib.font_manager:findfont: Font family 'normal' not found.\n",
            "WARNING:matplotlib.font_manager:findfont: Font family 'normal' not found.\n",
            "WARNING:matplotlib.font_manager:findfont: Font family 'normal' not found.\n",
            "WARNING:matplotlib.font_manager:findfont: Font family 'normal' not found.\n",
            "WARNING:matplotlib.font_manager:findfont: Font family 'normal' not found.\n",
            "WARNING:matplotlib.font_manager:findfont: Font family 'normal' not found.\n",
            "WARNING:matplotlib.font_manager:findfont: Font family 'normal' not found.\n",
            "WARNING:matplotlib.font_manager:findfont: Font family 'normal' not found.\n",
            "WARNING:matplotlib.font_manager:findfont: Font family 'normal' not found.\n",
            "WARNING:matplotlib.font_manager:findfont: Font family 'normal' not found.\n",
            "WARNING:matplotlib.font_manager:findfont: Font family 'normal' not found.\n",
            "WARNING:matplotlib.font_manager:findfont: Font family 'normal' not found.\n",
            "WARNING:matplotlib.font_manager:findfont: Font family 'normal' not found.\n",
            "WARNING:matplotlib.font_manager:findfont: Font family 'normal' not found.\n",
            "WARNING:matplotlib.font_manager:findfont: Font family 'normal' not found.\n",
            "WARNING:matplotlib.font_manager:findfont: Font family 'normal' not found.\n",
            "WARNING:matplotlib.font_manager:findfont: Font family 'normal' not found.\n",
            "WARNING:matplotlib.font_manager:findfont: Font family 'normal' not found.\n",
            "WARNING:matplotlib.font_manager:findfont: Font family 'normal' not found.\n",
            "WARNING:matplotlib.font_manager:findfont: Font family 'normal' not found.\n",
            "WARNING:matplotlib.font_manager:findfont: Font family 'normal' not found.\n",
            "WARNING:matplotlib.font_manager:findfont: Font family 'normal' not found.\n",
            "WARNING:matplotlib.font_manager:findfont: Font family 'normal' not found.\n",
            "WARNING:matplotlib.font_manager:findfont: Font family 'normal' not found.\n",
            "WARNING:matplotlib.font_manager:findfont: Font family 'normal' not found.\n",
            "WARNING:matplotlib.font_manager:findfont: Font family 'normal' not found.\n",
            "WARNING:matplotlib.font_manager:findfont: Font family 'normal' not found.\n",
            "WARNING:matplotlib.font_manager:findfont: Font family 'normal' not found.\n",
            "WARNING:matplotlib.font_manager:findfont: Font family 'normal' not found.\n",
            "WARNING:matplotlib.font_manager:findfont: Font family 'normal' not found.\n",
            "WARNING:matplotlib.font_manager:findfont: Font family 'normal' not found.\n",
            "WARNING:matplotlib.font_manager:findfont: Font family 'normal' not found.\n",
            "WARNING:matplotlib.font_manager:findfont: Font family 'normal' not found.\n",
            "WARNING:matplotlib.font_manager:findfont: Font family 'normal' not found.\n",
            "WARNING:matplotlib.font_manager:findfont: Font family 'normal' not found.\n",
            "WARNING:matplotlib.font_manager:findfont: Font family 'normal' not found.\n",
            "WARNING:matplotlib.font_manager:findfont: Font family 'normal' not found.\n",
            "WARNING:matplotlib.font_manager:findfont: Font family 'normal' not found.\n",
            "WARNING:matplotlib.font_manager:findfont: Font family 'normal' not found.\n",
            "WARNING:matplotlib.font_manager:findfont: Font family 'normal' not found.\n",
            "WARNING:matplotlib.font_manager:findfont: Font family 'normal' not found.\n",
            "WARNING:matplotlib.font_manager:findfont: Font family 'normal' not found.\n",
            "WARNING:matplotlib.font_manager:findfont: Font family 'normal' not found.\n",
            "WARNING:matplotlib.font_manager:findfont: Font family 'normal' not found.\n",
            "WARNING:matplotlib.font_manager:findfont: Font family 'normal' not found.\n",
            "WARNING:matplotlib.font_manager:findfont: Font family 'normal' not found.\n",
            "WARNING:matplotlib.font_manager:findfont: Font family 'normal' not found.\n",
            "WARNING:matplotlib.font_manager:findfont: Font family 'normal' not found.\n",
            "WARNING:matplotlib.font_manager:findfont: Font family 'normal' not found.\n",
            "WARNING:matplotlib.font_manager:findfont: Font family 'normal' not found.\n",
            "WARNING:matplotlib.font_manager:findfont: Font family 'normal' not found.\n",
            "WARNING:matplotlib.font_manager:findfont: Font family 'normal' not found.\n",
            "WARNING:matplotlib.font_manager:findfont: Font family 'normal' not found.\n",
            "WARNING:matplotlib.font_manager:findfont: Font family 'normal' not found.\n",
            "WARNING:matplotlib.font_manager:findfont: Font family 'normal' not found.\n",
            "WARNING:matplotlib.font_manager:findfont: Font family 'normal' not found.\n",
            "WARNING:matplotlib.font_manager:findfont: Font family 'normal' not found.\n",
            "WARNING:matplotlib.font_manager:findfont: Font family 'normal' not found.\n",
            "WARNING:matplotlib.font_manager:findfont: Font family 'normal' not found.\n",
            "WARNING:matplotlib.font_manager:findfont: Font family 'normal' not found.\n",
            "WARNING:matplotlib.font_manager:findfont: Font family 'normal' not found.\n",
            "WARNING:matplotlib.font_manager:findfont: Font family 'normal' not found.\n",
            "WARNING:matplotlib.font_manager:findfont: Font family 'normal' not found.\n",
            "WARNING:matplotlib.font_manager:findfont: Font family 'normal' not found.\n",
            "WARNING:matplotlib.font_manager:findfont: Font family 'normal' not found.\n",
            "WARNING:matplotlib.font_manager:findfont: Font family 'normal' not found.\n",
            "WARNING:matplotlib.font_manager:findfont: Font family 'normal' not found.\n",
            "WARNING:matplotlib.font_manager:findfont: Font family 'normal' not found.\n",
            "WARNING:matplotlib.font_manager:findfont: Font family 'normal' not found.\n",
            "WARNING:matplotlib.font_manager:findfont: Font family 'normal' not found.\n",
            "WARNING:matplotlib.font_manager:findfont: Font family 'normal' not found.\n",
            "WARNING:matplotlib.font_manager:findfont: Font family 'normal' not found.\n"
          ]
        },
        {
          "output_type": "display_data",
          "data": {
            "text/plain": [
              "<Figure size 1500x800 with 1 Axes>"
            ],
            "image/png": "[encoded data removed]"
          },
          "metadata": {}
        }
      ]
    },
    {
      "cell_type": "markdown",
      "source": [
        "We also want to show the **vertical asymptote** at $u_{lim}$ = $\\frac{3\\sqrt{3}}{2}$:"
      ],
      "metadata": {
        "id": "_uJscTfPrvvE"
      }
    },
    {
      "cell_type": "code",
      "source": [
        "# plot a vertical dotted line at u=3\\sqrt(3)/2\n",
        "x=[np.min(u),np.min(u)]\n",
        "y=[0,10]\n",
        "ax.plot(x,y,':')"
      ],
      "metadata": {
        "colab": {
          "base_uri": "https://localhost:8080/"
        },
        "id": "WMRqLoFcjLWq",
        "outputId": "8b9f604b-0fd6-4863-a0d2-5490dcca09ac"
      },
      "execution_count": null,
      "outputs": [
        {
          "output_type": "execute_result",
          "data": {
            "text/plain": [
              "[<matplotlib.lines.Line2D at 0x7b052308b430>]"
            ]
          },
          "metadata": {},
          "execution_count": 19
        }
      ]
    },
    {
      "cell_type": "markdown",
      "source": [
        "To conclude, we save the figure in a .png file:"
      ],
      "metadata": {
        "id": "H9cimIXrsDJn"
      }
    },
    {
      "cell_type": "code",
      "source": [
        "# save figure in png format\n",
        "fig.savefig('bhalpha.png')"
      ],
      "metadata": {
        "colab": {
          "base_uri": "https://localhost:8080/"
        },
        "id": "l882ch0pjvGe",
        "outputId": "c575cbb5-ee9a-45c7-b13d-4c004e7532fa"
      },
      "execution_count": null,
      "outputs": [
        {
          "output_type": "stream",
          "name": "stderr",
          "text": [
            "WARNING:matplotlib.font_manager:findfont: Font family 'normal' not found.\n",
            "WARNING:matplotlib.font_manager:findfont: Font family 'normal' not found.\n",
            "WARNING:matplotlib.font_manager:findfont: Font family 'normal' not found.\n",
            "WARNING:matplotlib.font_manager:findfont: Font family 'normal' not found.\n",
            "WARNING:matplotlib.font_manager:findfont: Font family 'normal' not found.\n",
            "WARNING:matplotlib.font_manager:findfont: Font family 'normal' not found.\n",
            "WARNING:matplotlib.font_manager:findfont: Font family 'normal' not found.\n",
            "WARNING:matplotlib.font_manager:findfont: Font family 'normal' not found.\n",
            "WARNING:matplotlib.font_manager:findfont: Font family 'normal' not found.\n",
            "WARNING:matplotlib.font_manager:findfont: Font family 'normal' not found.\n",
            "WARNING:matplotlib.font_manager:findfont: Font family 'normal' not found.\n",
            "WARNING:matplotlib.font_manager:findfont: Font family 'normal' not found.\n",
            "WARNING:matplotlib.font_manager:findfont: Font family 'normal' not found.\n",
            "WARNING:matplotlib.font_manager:findfont: Font family 'normal' not found.\n",
            "WARNING:matplotlib.font_manager:findfont: Font family 'normal' not found.\n",
            "WARNING:matplotlib.font_manager:findfont: Font family 'normal' not found.\n",
            "WARNING:matplotlib.font_manager:findfont: Font family 'normal' not found.\n",
            "WARNING:matplotlib.font_manager:findfont: Font family 'normal' not found.\n",
            "WARNING:matplotlib.font_manager:findfont: Font family 'normal' not found.\n",
            "WARNING:matplotlib.font_manager:findfont: Font family 'normal' not found.\n",
            "WARNING:matplotlib.font_manager:findfont: Font family 'normal' not found.\n",
            "WARNING:matplotlib.font_manager:findfont: Font family 'normal' not found.\n",
            "WARNING:matplotlib.font_manager:findfont: Font family 'normal' not found.\n",
            "WARNING:matplotlib.font_manager:findfont: Font family 'normal' not found.\n",
            "WARNING:matplotlib.font_manager:findfont: Font family 'normal' not found.\n",
            "WARNING:matplotlib.font_manager:findfont: Font family 'normal' not found.\n",
            "WARNING:matplotlib.font_manager:findfont: Font family 'normal' not found.\n",
            "WARNING:matplotlib.font_manager:findfont: Font family 'normal' not found.\n",
            "WARNING:matplotlib.font_manager:findfont: Font family 'normal' not found.\n",
            "WARNING:matplotlib.font_manager:findfont: Font family 'normal' not found.\n",
            "WARNING:matplotlib.font_manager:findfont: Font family 'normal' not found.\n",
            "WARNING:matplotlib.font_manager:findfont: Font family 'normal' not found.\n",
            "WARNING:matplotlib.font_manager:findfont: Font family 'normal' not found.\n",
            "WARNING:matplotlib.font_manager:findfont: Font family 'normal' not found.\n",
            "WARNING:matplotlib.font_manager:findfont: Font family 'normal' not found.\n",
            "WARNING:matplotlib.font_manager:findfont: Font family 'normal' not found.\n",
            "WARNING:matplotlib.font_manager:findfont: Font family 'normal' not found.\n",
            "WARNING:matplotlib.font_manager:findfont: Font family 'normal' not found.\n",
            "WARNING:matplotlib.font_manager:findfont: Font family 'normal' not found.\n"
          ]
        }
      ]
    },
    {
      "cell_type": "code",
      "source": [],
      "metadata": {
        "id": "nO8W5xsDjzDS"
      },
      "execution_count": null,
      "outputs": []
    }
  ]
}